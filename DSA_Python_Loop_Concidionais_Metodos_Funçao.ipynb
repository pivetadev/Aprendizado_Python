{
  "cells": [
    {
      "cell_type": "markdown",
      "metadata": {
        "id": "view-in-github",
        "colab_type": "text"
      },
      "source": [
        "<a href=\"https://colab.research.google.com/github/NicolePessoa/Aprendizado_Python/blob/master/DSA_Python_Loop_Concidionais_Metodos_Fun%C3%A7ao.ipynb\" target=\"_parent\"><img src=\"https://colab.research.google.com/assets/colab-badge.svg\" alt=\"Open In Colab\"/></a>"
      ]
    },
    {
      "cell_type": "markdown",
      "metadata": {
        "id": "p9f6wAxbVUS8"
      },
      "source": [
        "# <font color='red'>Data Science Academy</font>\n",
        "\n",
        "## <font color='red'>Fundamentos de Linguagem Python Para Análise de Dados e Data Science</font>\n",
        "\n",
        "## <font color='red'>Capítulo 5 - Condicionais</font>"
      ]
    },
    {
      "cell_type": "code",
      "execution_count": null,
      "metadata": {
        "colab": {
          "base_uri": "https://localhost:8080/"
        },
        "id": "pDqhtaSiVUS_",
        "outputId": "d53aa620-9772-4e87-b021-6ace847c62db"
      },
      "outputs": [
        {
          "output_type": "stream",
          "name": "stdout",
          "text": [
            "Versão da Linguagem Python Usada Neste Jupyter Notebook: 3.10.12\n"
          ]
        }
      ],
      "source": [
        "# Versão da Linguagem Python\n",
        "from platform import python_version\n",
        "print('Versão da Linguagem Python Usada Neste Jupyter Notebook:', python_version())"
      ]
    },
    {
      "cell_type": "markdown",
      "metadata": {
        "id": "UUJE4kvCVUTA"
      },
      "source": [
        "## Condicional If"
      ]
    },
    {
      "cell_type": "code",
      "execution_count": null,
      "metadata": {
        "colab": {
          "base_uri": "https://localhost:8080/"
        },
        "id": "RWGBg5HnVUTB",
        "outputId": "0b3556e6-74ff-47cd-e46f-e0909e5c66f5"
      },
      "outputs": [
        {
          "output_type": "stream",
          "name": "stdout",
          "text": [
            "A sentença é verdadeira!\n"
          ]
        }
      ],
      "source": [
        "# Condicional If (Se)\n",
        "if 5 > 2:\n",
        "    print(\"A sentença é verdadeira!\")"
      ]
    },
    {
      "cell_type": "code",
      "execution_count": null,
      "metadata": {
        "colab": {
          "base_uri": "https://localhost:8080/"
        },
        "id": "xN8kCQdwVUTD",
        "outputId": "c1f69443-915e-4fe6-e7f3-89cd94b88d44"
      },
      "outputs": [
        {
          "output_type": "stream",
          "name": "stdout",
          "text": [
            "A sentença é falsa!\n"
          ]
        }
      ],
      "source": [
        "# Condicional If...Else(Se não)\n",
        "if 5 < 2:\n",
        "    print(\"A sentença é verdadeira!\")\n",
        "else:\n",
        "    print(\"A sentença é falsa!\")"
      ]
    },
    {
      "cell_type": "code",
      "execution_count": null,
      "metadata": {
        "colab": {
          "base_uri": "https://localhost:8080/"
        },
        "id": "YJOM2KeCVUTD",
        "outputId": "3f3461f0-18ba-4e86-de00-24241a939865"
      },
      "outputs": [
        {
          "output_type": "stream",
          "name": "stdout",
          "text": [
            "Hoje vai chover!\n"
          ]
        }
      ],
      "source": [
        "# Condicional If...Else com variável\n",
        "dia = \"Terça\"\n",
        "if dia == \"Segunda\":\n",
        "    print(\"Hoje fará sol!\")\n",
        "else:\n",
        "    print(\"Hoje vai chover!\")"
      ]
    },
    {
      "cell_type": "code",
      "execution_count": null,
      "metadata": {
        "colab": {
          "base_uri": "https://localhost:8080/"
        },
        "id": "hj0HExVrVUTE",
        "outputId": "89f314dc-e712-433e-bdb0-ae32d55759a9"
      },
      "outputs": [
        {
          "output_type": "stream",
          "name": "stdout",
          "text": [
            "Hoje vai chover!\n"
          ]
        }
      ],
      "source": [
        "# Podemos usar o operador elif(Se ou Se não) para validar mais de uma condição\n",
        "if dia == \"Segunda\":\n",
        "    print(\"Hoje fará sol!\")\n",
        "elif dia == \"Terça\":\n",
        "    print(\"Hoje vai chover!\")\n",
        "else:\n",
        "    print(\"Sem previsão do tempo para o dia selecionado\")"
      ]
    },
    {
      "cell_type": "markdown",
      "metadata": {
        "id": "fTCeP5Y8VUTF"
      },
      "source": [
        "## Operadores Relacionais\n",
        "\n",
        "Retorna um valor booleano."
      ]
    },
    {
      "cell_type": "code",
      "execution_count": null,
      "metadata": {
        "colab": {
          "base_uri": "https://localhost:8080/"
        },
        "id": "cBIXuH6wVUTF",
        "outputId": "71deddbe-5c73-4c8b-887b-dd7822e9a1fa"
      },
      "outputs": [
        {
          "output_type": "execute_result",
          "data": {
            "text/plain": [
              "True"
            ]
          },
          "metadata": {},
          "execution_count": 6
        }
      ],
      "source": [
        "6 > 3"
      ]
    },
    {
      "cell_type": "code",
      "execution_count": null,
      "metadata": {
        "colab": {
          "base_uri": "https://localhost:8080/"
        },
        "id": "HDx22oivVUTG",
        "outputId": "889999dc-459d-4f72-8f86-004b2c7ca1b4"
      },
      "outputs": [
        {
          "output_type": "execute_result",
          "data": {
            "text/plain": [
              "False"
            ]
          },
          "metadata": {},
          "execution_count": 7
        }
      ],
      "source": [
        "3 > 7"
      ]
    },
    {
      "cell_type": "code",
      "execution_count": null,
      "metadata": {
        "colab": {
          "base_uri": "https://localhost:8080/"
        },
        "id": "TjltWVXaVUTG",
        "outputId": "33529321-edeb-402e-fafc-b4a132d5c140"
      },
      "outputs": [
        {
          "output_type": "execute_result",
          "data": {
            "text/plain": [
              "True"
            ]
          },
          "metadata": {},
          "execution_count": 8
        }
      ],
      "source": [
        "4 < 8"
      ]
    },
    {
      "cell_type": "code",
      "execution_count": null,
      "metadata": {
        "colab": {
          "base_uri": "https://localhost:8080/"
        },
        "id": "Mm3_TxWxVUTH",
        "outputId": "e9135dc9-2d5a-495a-ceaf-ccd3d4bd2a61"
      },
      "outputs": [
        {
          "output_type": "execute_result",
          "data": {
            "text/plain": [
              "True"
            ]
          },
          "metadata": {},
          "execution_count": 9
        }
      ],
      "source": [
        "4 >= 4"
      ]
    },
    {
      "cell_type": "code",
      "execution_count": null,
      "metadata": {
        "colab": {
          "base_uri": "https://localhost:8080/"
        },
        "id": "IOYEols9VUTI",
        "outputId": "de579725-cf82-4f6e-ac87-4ba85bf0af58"
      },
      "outputs": [
        {
          "output_type": "execute_result",
          "data": {
            "text/plain": [
              "True"
            ]
          },
          "metadata": {},
          "execution_count": 10
        }
      ],
      "source": [
        "5 == 5"
      ]
    },
    {
      "cell_type": "code",
      "execution_count": null,
      "metadata": {
        "colab": {
          "base_uri": "https://localhost:8080/"
        },
        "id": "ZNO5gs4HVUTI",
        "outputId": "fa5a0d79-055c-4d33-badf-759271749f4d"
      },
      "outputs": [
        {
          "output_type": "stream",
          "name": "stdout",
          "text": [
            "Testando Python!\n"
          ]
        }
      ],
      "source": [
        "if 5 == 5:\n",
        "    print(\"Testando Python!\")"
      ]
    },
    {
      "cell_type": "code",
      "execution_count": null,
      "metadata": {
        "colab": {
          "base_uri": "https://localhost:8080/"
        },
        "id": "3cm8P_nNVUTK",
        "outputId": "86dc7431-1abe-4d2e-b773-2a994803790d"
      },
      "outputs": [
        {
          "output_type": "stream",
          "name": "stdout",
          "text": [
            "Parece que Python funciona!\n"
          ]
        }
      ],
      "source": [
        "if True:\n",
        "    print('Parece que Python funciona!')"
      ]
    },
    {
      "cell_type": "code",
      "execution_count": null,
      "metadata": {
        "colab": {
          "base_uri": "https://localhost:8080/"
        },
        "id": "8nFmpzGMVUTK",
        "outputId": "54f5d721-a8be-45f9-f281-83f68ee05f8d"
      },
      "outputs": [
        {
          "output_type": "stream",
          "name": "stdout",
          "text": [
            "Tudo funciona!\n"
          ]
        }
      ],
      "source": [
        "# Atenção com a sintaxe\n",
        "if 4 > 3:\n",
        "    print(\"Tudo funciona!\")"
      ]
    },
    {
      "cell_type": "code",
      "execution_count": null,
      "metadata": {
        "colab": {
          "base_uri": "https://localhost:8080/"
        },
        "id": "yMNJUEm8VUTK",
        "outputId": "cc49b475-7621-4ef0-f06f-e1735572d21b"
      },
      "outputs": [
        {
          "output_type": "stream",
          "name": "stdout",
          "text": [
            "Tudo funciona!\n"
          ]
        }
      ],
      "source": [
        "# Atenção com a sintaxe\n",
        "if 4 > 3:\n",
        "  print(\"Tudo funciona!\")"
      ]
    },
    {
      "cell_type": "markdown",
      "metadata": {
        "id": "pYkr6Tl5VUTK"
      },
      "source": [
        "### --> Fique atento aos espaços entre a margem e cada um dos seus comandos. Falaremos mais sobre indentação ao longo do curso. A indentação faz parte da sintaxe da linguagem Python."
      ]
    },
    {
      "cell_type": "markdown",
      "metadata": {
        "id": "yGsi_VOdVUTK"
      },
      "source": [
        "## Condicionais Aninhados"
      ]
    },
    {
      "cell_type": "code",
      "execution_count": null,
      "metadata": {
        "colab": {
          "base_uri": "https://localhost:8080/"
        },
        "id": "W57V_CvPVUTL",
        "outputId": "453f35c0-96d7-42f3-bdf1-a7cdbae41004"
      },
      "outputs": [
        {
          "output_type": "stream",
          "name": "stdout",
          "text": [
            "Você pode dirigir!\n"
          ]
        }
      ],
      "source": [
        "idade = 18\n",
        "if idade > 17:\n",
        "    print(\"Você pode dirigir!\")"
      ]
    },
    {
      "cell_type": "code",
      "execution_count": null,
      "metadata": {
        "colab": {
          "base_uri": "https://localhost:8080/"
        },
        "id": "iZqGErLjVUTL",
        "outputId": "8858c268-bab6-47e7-8755-76383e54da7a"
      },
      "outputs": [
        {
          "output_type": "stream",
          "name": "stdout",
          "text": [
            "Ok Bob, você está autorizado a entrar!\n"
          ]
        }
      ],
      "source": [
        "Nome = \"Bob\"\n",
        "if idade > 13:\n",
        "    if Nome == \"Bob\":\n",
        "        print(\"Ok Bob, você está autorizado a entrar!\")\n",
        "    else:\n",
        "        print(\"Desculpe, mas você não pode entrar!\")"
      ]
    },
    {
      "cell_type": "code",
      "execution_count": null,
      "metadata": {
        "colab": {
          "base_uri": "https://localhost:8080/"
        },
        "id": "k7B2xER1VUTM",
        "outputId": "92126c45-e189-4937-9695-1513d538edc8"
      },
      "outputs": [
        {
          "output_type": "stream",
          "name": "stdout",
          "text": [
            "Ok Bob, você está autorizado a entrar!\n"
          ]
        }
      ],
      "source": [
        "idade = 13\n",
        "Nome = \"Bob\"\n",
        "if idade >= 13 and Nome == \"Bob\":\n",
        "    print(\"Ok Bob, você está autorizado a entrar!\")"
      ]
    },
    {
      "cell_type": "code",
      "execution_count": null,
      "metadata": {
        "colab": {
          "base_uri": "https://localhost:8080/"
        },
        "id": "5VS7n8ygVUTM",
        "outputId": "1e545ba4-4f7f-415c-a4ba-db95d4f786cf"
      },
      "outputs": [
        {
          "output_type": "stream",
          "name": "stdout",
          "text": [
            "Ok Bob, você está autorizado a entrar!\n"
          ]
        }
      ],
      "source": [
        "idade = 12\n",
        "Nome = \"Bob\"\n",
        "if (idade >= 13) or (Nome == \"Bob\"):\n",
        "    print(\"Ok Bob, você está autorizado a entrar!\")"
      ]
    },
    {
      "cell_type": "markdown",
      "metadata": {
        "id": "x-Q6HUtSVUTM"
      },
      "source": [
        "## <font color = black>**Operadores Lógicos**</font>"
      ]
    },
    {
      "cell_type": "code",
      "execution_count": null,
      "metadata": {
        "colab": {
          "base_uri": "https://localhost:8080/"
        },
        "id": "PyWn0jEtVUTN",
        "outputId": "2e7af7ee-ae0c-4890-fed4-78e6ad00e07c"
      },
      "outputs": [
        {
          "output_type": "stream",
          "name": "stdout",
          "text": [
            "Você pode dirigir!\n"
          ]
        }
      ],
      "source": [
        "idade = 18\n",
        "nome = \"Bob\"\n",
        "if idade > 17:\n",
        "    print(\"Você pode dirigir!\")"
      ]
    },
    {
      "cell_type": "code",
      "execution_count": null,
      "metadata": {
        "colab": {
          "base_uri": "https://localhost:8080/"
        },
        "id": "Jm-EMedrVUTN",
        "outputId": "60a8ea20-dc00-447d-d4b3-56bbbe3db7cd"
      },
      "outputs": [
        {
          "output_type": "stream",
          "name": "stdout",
          "text": [
            "Autorizado!\n"
          ]
        }
      ],
      "source": [
        "idade = 18\n",
        "if idade > 17 and nome == \"Bob\":\n",
        "    print(\"Autorizado!\")"
      ]
    },
    {
      "cell_type": "markdown",
      "metadata": {
        "id": "NXHdNzubVUTN"
      },
      "source": [
        "Os operadores lógicos funcionam assim:\n",
        "\n",
        "- Operador **and** - Retorna True se ambas as declarações forem verdadeiras.\n",
        "- Operador **or** - Retorna True se uma das declarações for verdadeira.\n",
        "- Operador **not** - Inverte o resultado, retorna False se o resultado for True."
      ]
    },
    {
      "cell_type": "code",
      "execution_count": null,
      "metadata": {
        "colab": {
          "base_uri": "https://localhost:8080/"
        },
        "id": "Q6heZX8sVUTN",
        "outputId": "09beffcb-6f82-4fdd-8058-d247ce633612"
      },
      "outputs": [
        {
          "output_type": "stream",
          "name": "stdout",
          "text": [
            "Isso está sendo impresso porque as duas condições são verdadeiras!\n"
          ]
        }
      ],
      "source": [
        "# Operador and\n",
        "\n",
        "numero = 4\n",
        "\n",
        "if (numero > 2) and (numero % 2 == 0):\n",
        "    print(\"Isso está sendo impresso porque as duas condições são verdadeiras!\")"
      ]
    },
    {
      "cell_type": "code",
      "execution_count": null,
      "metadata": {
        "colab": {
          "base_uri": "https://localhost:8080/"
        },
        "id": "Peg7biL7VUTN",
        "outputId": "34735b6a-2f8a-4f37-fd5a-d9adee173a36"
      },
      "outputs": [
        {
          "output_type": "stream",
          "name": "stdout",
          "text": [
            "Isso está sendo impresso porque uma das duas condições é falsa!\n"
          ]
        }
      ],
      "source": [
        "# Operador and\n",
        "\n",
        "numero = 4\n",
        "\n",
        "if (numero > 5) and (numero % 2 == 0):\n",
        "    print(\"Isso está sendo impresso porque as duas condições são verdadeiras!\")\n",
        "else:\n",
        "    print(\"Isso está sendo impresso porque uma das duas condições é falsa!\")"
      ]
    },
    {
      "cell_type": "code",
      "execution_count": null,
      "metadata": {
        "colab": {
          "base_uri": "https://localhost:8080/"
        },
        "id": "wz-TCTe6VUTO",
        "outputId": "6a8954a5-1b31-4648-99da-796bd2b00c83"
      },
      "outputs": [
        {
          "output_type": "stream",
          "name": "stdout",
          "text": [
            "Isso está sendo impresso porque uma duas condições é verdadeira!\n"
          ]
        }
      ],
      "source": [
        "# Operador or\n",
        "\n",
        "numero = 4\n",
        "\n",
        "if (numero > 5) or (numero % 2 == 0):\n",
        "    print(\"Isso está sendo impresso porque uma duas condições é verdadeira!\")"
      ]
    },
    {
      "cell_type": "code",
      "execution_count": null,
      "metadata": {
        "colab": {
          "base_uri": "https://localhost:8080/"
        },
        "id": "O8jcnyPSVUTO",
        "outputId": "01a2a9fa-54b2-4b39-fc47-7eea8829f554"
      },
      "outputs": [
        {
          "output_type": "stream",
          "name": "stdout",
          "text": [
            "Isso está sendo impresso porque uma das duas condições é falsa!\n"
          ]
        }
      ],
      "source": [
        "# Operador not\n",
        "\n",
        "numero = 4\n",
        "\n",
        "if not(numero > 5) and (numero % 2 == 0):\n",
        "    print(\"Isso está sendo impresso porque as duas condições são verdadeiras!\")\n",
        "else:\n",
        "    print(\"Isso está sendo impresso porque uma das duas condições é falsa!\")"
      ]
    },
    {
      "cell_type": "code",
      "execution_count": null,
      "metadata": {
        "id": "6Z3EIphSVUTO"
      },
      "outputs": [],
      "source": [
        "# Operador and, or e not\n",
        "\n",
        "numero = 4\n",
        "\n",
        "if (not(numero > 5) and (numero % 2 == 0)) or (numero == 4):\n",
        "    print(\"Isso está sendo impresso porque as duas primeiras condições são verdadeiras ou a terceira é verdadeira!\")"
      ]
    },
    {
      "cell_type": "code",
      "execution_count": null,
      "metadata": {
        "colab": {
          "base_uri": "https://localhost:8080/"
        },
        "id": "aDhTUmerVUTP",
        "outputId": "2cd73f90-5fbc-46ea-c2f0-a5c5fb6fd54e"
      },
      "outputs": [
        {
          "output_type": "stream",
          "name": "stdout",
          "text": [
            "Você foi aprovado!\n"
          ]
        }
      ],
      "source": [
        "# Exemplo com o uso de variáveis\n",
        "\n",
        "disciplina = 'Data Science'\n",
        "nota_final = 70\n",
        "\n",
        "if disciplina == 'Data Science' and nota_final >= 70:\n",
        "    print('Você foi aprovado!')\n",
        "else:\n",
        "    print('Lamento, acho que você precisa estudar mais!')"
      ]
    },
    {
      "cell_type": "code",
      "execution_count": null,
      "metadata": {
        "colab": {
          "base_uri": "https://localhost:8080/"
        },
        "id": "ocieBAYbVUTP",
        "outputId": "c148859a-2348-44d4-be54-9fadbce5f697"
      },
      "outputs": [
        {
          "output_type": "stream",
          "name": "stdout",
          "text": [
            "Recuperação\n"
          ]
        }
      ],
      "source": [
        "from IPython.core.error import InputRejected\n",
        "# Usando mais de uma condição na cláusula if\n",
        "\n",
        "disciplina = 'Data Science'\n",
        "nota = 10\n",
        "\n",
        "if disciplina == 'Data Science' and nota >= 50:\n",
        "  print('Você esta aprovado')\n",
        "else:\n",
        "  print('Recuperação')"
      ]
    },
    {
      "cell_type": "code",
      "execution_count": null,
      "metadata": {
        "colab": {
          "base_uri": "https://localhost:8080/"
        },
        "id": "G164sZmqVUTP",
        "outputId": "219b46c1-86bd-4dbc-f458-c75a407d19de"
      },
      "outputs": [
        {
          "output_type": "stream",
          "name": "stdout",
          "text": [
            "Você foi aprovado em Data Science com média final 90!\n"
          ]
        }
      ],
      "source": [
        "# Usando mais de uma condição na cláusula if e introduzindo Placeholders\n",
        "\n",
        "disciplina = 'Data Science'\n",
        "nota_final = 90\n",
        "semestre = 2\n",
        "\n",
        "if disciplina == 'Data Science' and nota_final >= 80 and semestre != 1:\n",
        "    print('Você foi aprovado em %s com média final %r!' %(disciplina, nota_final))\n",
        "else:\n",
        "    print('Lamento, acho que você precisa estudar mais!')"
      ]
    },
    {
      "cell_type": "code",
      "source": [
        "from google.colab import drive\n",
        "drive.mount('/content/drive')"
      ],
      "metadata": {
        "id": "uHxr5Okqjnlo"
      },
      "execution_count": null,
      "outputs": []
    },
    {
      "cell_type": "markdown",
      "source": [
        "# <font color='black'>**Loop For**</font>"
      ],
      "metadata": {
        "id": "zrWqqvd7l94D"
      }
    },
    {
      "cell_type": "code",
      "source": [
        "#Criando uma tupla e imprimindo cada um dos valores\n",
        "#For significa Para\n",
        "tp = (2,3,4)\n",
        "for i in tp:\n",
        "  print(i)"
      ],
      "metadata": {
        "colab": {
          "base_uri": "https://localhost:8080/"
        },
        "id": "oh1Ij7XTnBfU",
        "outputId": "083d1421-edd0-4907-bc43-dacac535f3e9"
      },
      "execution_count": null,
      "outputs": [
        {
          "output_type": "stream",
          "name": "stdout",
          "text": [
            "2\n",
            "3\n",
            "4\n"
          ]
        }
      ]
    },
    {
      "cell_type": "code",
      "source": [
        "#Criando uma lista e imprimindo cada um dos valores\n",
        "ListaDeStrings = [\"Data\",\"Science\",\"Academy\"]\n",
        "for i in ListaDeStrings:\n",
        "  print(i)"
      ],
      "metadata": {
        "colab": {
          "base_uri": "https://localhost:8080/"
        },
        "id": "LCL0TtiknT9-",
        "outputId": "3ad59efa-515a-4e05-b525-84a88a07c1c3"
      },
      "execution_count": null,
      "outputs": [
        {
          "output_type": "stream",
          "name": "stdout",
          "text": [
            "Data\n",
            "Science\n",
            "Academy\n"
          ]
        }
      ]
    },
    {
      "cell_type": "code",
      "source": [
        "#Imprimindo os valores no intervalo entre 0 e 5 (exclusive)\n",
        "for contador in range(0,5):\n",
        "  print(contador)"
      ],
      "metadata": {
        "colab": {
          "base_uri": "https://localhost:8080/"
        },
        "id": "4PwAdO9Hn0mm",
        "outputId": "a62a1cd0-686a-4f6e-8e9d-41136e723bc6"
      },
      "execution_count": null,
      "outputs": [
        {
          "output_type": "stream",
          "name": "stdout",
          "text": [
            "0\n",
            "1\n",
            "2\n",
            "3\n",
            "4\n"
          ]
        }
      ]
    },
    {
      "cell_type": "code",
      "source": [
        "#Imprimindo os números pares da lista de números\n",
        "lista = [1,2,3,4,5,6,7,8,9,10]\n",
        "for num in lista:\n",
        "  if num % 2 == 0:\n",
        "    print(num)"
      ],
      "metadata": {
        "colab": {
          "base_uri": "https://localhost:8080/"
        },
        "id": "cL-xvcF3oGlL",
        "outputId": "925ffc60-5967-4a98-a032-c1bb6c55b209"
      },
      "execution_count": null,
      "outputs": [
        {
          "output_type": "stream",
          "name": "stdout",
          "text": [
            "2\n",
            "4\n",
            "6\n",
            "8\n",
            "10\n"
          ]
        }
      ]
    },
    {
      "cell_type": "markdown",
      "source": [
        "# <font color='black'> **Loop For Aninhado**</font>"
      ],
      "metadata": {
        "id": "8C3r0HHlqrdr"
      }
    },
    {
      "cell_type": "code",
      "source": [
        " # Loops aninhados\n",
        "\n",
        " lista1 = [0,1,2,3,4]\n",
        " lista2 = [1,2,3]\n",
        "\n",
        " # Loop externo\n",
        " for elemento_lista1 in lista1:\n",
        "\n",
        "      #Loop interno\n",
        "    for elemento_lista2 in lista2:\n",
        "      print('\\n',elemento_lista1 * elemento_lista2)\n",
        "    print('-----')"
      ],
      "metadata": {
        "colab": {
          "base_uri": "https://localhost:8080/"
        },
        "id": "BsPdjlRgrbNA",
        "outputId": "e21f5b9c-b181-4fc7-9087-4639ff91ff25"
      },
      "execution_count": null,
      "outputs": [
        {
          "output_type": "stream",
          "name": "stdout",
          "text": [
            "\n",
            " 0\n",
            "\n",
            " 0\n",
            "\n",
            " 0\n",
            "-----\n",
            "\n",
            " 1\n",
            "\n",
            " 2\n",
            "\n",
            " 3\n",
            "-----\n",
            "\n",
            " 2\n",
            "\n",
            " 4\n",
            "\n",
            " 6\n",
            "-----\n",
            "\n",
            " 3\n",
            "\n",
            " 6\n",
            "\n",
            " 9\n",
            "-----\n",
            "\n",
            " 4\n",
            "\n",
            " 8\n",
            "\n",
            " 12\n",
            "-----\n"
          ]
        }
      ]
    },
    {
      "cell_type": "code",
      "source": [
        "#O número 47 aparece nas duas listas?\n",
        "\n",
        "lista1 = [10,16,24,39,47]\n",
        "lista2 = [32,89,47,76,12]\n",
        "\n",
        "#Loop externo\n",
        "for elemento_lista1 in lista1:\n",
        "\n",
        "#Loop Interno\n",
        "    for elemento_lista2 in lista2:\n",
        "\n",
        "#Condicional\n",
        "        if elemento_lista1 == 47 and elemento_lista2 == 47:\n",
        "\n",
        "            print(\"O número 47 foi encontrado nas duas listas: \")"
      ],
      "metadata": {
        "colab": {
          "base_uri": "https://localhost:8080/"
        },
        "id": "SkVWprGBswRX",
        "outputId": "a4a15630-37d7-4a49-abdb-d3b0b485258b"
      },
      "execution_count": null,
      "outputs": [
        {
          "output_type": "stream",
          "name": "stdout",
          "text": [
            "O número 47 foi encontrado nas duas listas: \n"
          ]
        }
      ]
    },
    {
      "cell_type": "markdown",
      "source": [
        "# <font color=\"black\">**Loop While**</font>"
      ],
      "metadata": {
        "id": "sAhyX4iHxKme"
      }
    },
    {
      "cell_type": "code",
      "source": [
        "#Usando o Loop While(enquanto) para imprimir os valroes de 0 a 9\n",
        "#A condição tem que deixar de ser verdadeira dentro do loop, senão pode travar o navegador ou mesmo o computador\n",
        "\n",
        "valor = 0\n",
        "while valor < 10:\n",
        "  print(valor)\n",
        "  valor = valor + 1"
      ],
      "metadata": {
        "colab": {
          "base_uri": "https://localhost:8080/"
        },
        "id": "H2C0y5DjxKOe",
        "outputId": "c73fd58f-45bd-4aae-d7e1-f9d09d2aef2c"
      },
      "execution_count": null,
      "outputs": [
        {
          "output_type": "stream",
          "name": "stdout",
          "text": [
            "0\n",
            "1\n",
            "2\n",
            "3\n",
            "4\n",
            "5\n",
            "6\n",
            "7\n",
            "8\n",
            "9\n"
          ]
        }
      ]
    },
    {
      "cell_type": "code",
      "source": [
        "#Entra no loop somente a condição for verdadeira\n",
        "\n",
        "valor = 11\n",
        "while valor < 10:\n",
        "  print(valor)\n",
        "  valor = valor + 1"
      ],
      "metadata": {
        "id": "EBBjhWV5ydZ_"
      },
      "execution_count": null,
      "outputs": []
    },
    {
      "cell_type": "markdown",
      "source": [
        "# <font color=\"black\">**Pass, Break, Continue**</font>"
      ],
      "metadata": {
        "id": "MQncjt1vzrOD"
      }
    },
    {
      "cell_type": "markdown",
      "source": [
        "## Pass - Passar | Break - Quebrar / pausa | Continue - Continuar"
      ],
      "metadata": {
        "id": "MIty8_y61DYy"
      }
    },
    {
      "cell_type": "code",
      "source": [
        "#Se encontramos o número 4 interrompemos o loop\n",
        "valor = 0\n",
        "while valor < 10:\n",
        "  if valor == 4:\n",
        "    break\n",
        "  else:\n",
        "    pass\n",
        "    print(valor)\n",
        "    valor = valor + 1"
      ],
      "metadata": {
        "colab": {
          "base_uri": "https://localhost:8080/"
        },
        "id": "MbHBxjbNz5uB",
        "outputId": "42bb3011-2ee6-48c2-9bb0-403456c9306f"
      },
      "execution_count": null,
      "outputs": [
        {
          "output_type": "stream",
          "name": "stdout",
          "text": [
            "0\n",
            "1\n",
            "2\n",
            "3\n"
          ]
        }
      ]
    },
    {
      "cell_type": "code",
      "source": [
        "#Desconsideramos a letra z ao imprimir os caracteres da frase\n",
        "for letra in \"Python é zzz incrível!\":\n",
        "  if letra == \"z\":\n",
        "    continue\n",
        "  print(letra)"
      ],
      "metadata": {
        "colab": {
          "base_uri": "https://localhost:8080/"
        },
        "id": "7YhxMNah0PmI",
        "outputId": "0a4e82cd-3c01-4bf0-d1db-c4005108379c"
      },
      "execution_count": null,
      "outputs": [
        {
          "output_type": "stream",
          "name": "stdout",
          "text": [
            "P\n",
            "y\n",
            "t\n",
            "h\n",
            "o\n",
            "n\n",
            " \n",
            "é\n",
            " \n",
            " \n",
            "i\n",
            "n\n",
            "c\n",
            "r\n",
            "í\n",
            "v\n",
            "e\n",
            "l\n",
            "!\n"
          ]
        }
      ]
    },
    {
      "cell_type": "markdown",
      "source": [
        "# <font color = black>**Função Range**</font>"
      ],
      "metadata": {
        "id": "GxxKPO9dMuTt"
      }
    },
    {
      "cell_type": "code",
      "source": [
        "#Imprimindo números de 1 a 10\n",
        "for i in range(1,11):#Detalhe que coloco 11 em vez de 10, porque se colocar o 10 ele conta até 9\n",
        "  print(i)"
      ],
      "metadata": {
        "colab": {
          "base_uri": "https://localhost:8080/"
        },
        "id": "3U0QmcKhMtYk",
        "outputId": "c233a908-f904-4ad4-fe3b-af60b9f8961d"
      },
      "execution_count": 2,
      "outputs": [
        {
          "output_type": "stream",
          "name": "stdout",
          "text": [
            "1\n",
            "2\n",
            "3\n",
            "4\n",
            "5\n",
            "6\n",
            "7\n",
            "8\n",
            "9\n",
            "10\n"
          ]
        }
      ]
    },
    {
      "cell_type": "code",
      "source": [
        "#Imprindo números pares entre 50 e 101\n",
        "for i in range(50, 101, 2):#Contagem de 50 até 100 em 2 em 2, pegando só números pares\n",
        "  print(i)"
      ],
      "metadata": {
        "colab": {
          "base_uri": "https://localhost:8080/"
        },
        "id": "Igmp4xGdNH-x",
        "outputId": "ca062d14-97bf-4ace-cbb6-2a123fa6bdb4"
      },
      "execution_count": 5,
      "outputs": [
        {
          "output_type": "stream",
          "name": "stdout",
          "text": [
            "50\n",
            "52\n",
            "54\n",
            "56\n",
            "58\n",
            "60\n",
            "62\n",
            "64\n",
            "66\n",
            "68\n",
            "70\n",
            "72\n",
            "74\n",
            "76\n",
            "78\n",
            "80\n",
            "82\n",
            "84\n",
            "86\n",
            "88\n",
            "90\n",
            "92\n",
            "94\n",
            "96\n",
            "98\n",
            "100\n",
            "102\n"
          ]
        }
      ]
    },
    {
      "cell_type": "code",
      "source": [
        "#Imprindo os números pares negativos entre 0 e -20\n",
        "for i in range(0, -20, -2):#Contagem de 0 até -20, fazendo -2 em -2, parecido com o primeiro\n",
        "  print(i)"
      ],
      "metadata": {
        "colab": {
          "base_uri": "https://localhost:8080/"
        },
        "id": "FZNm4WOzNZPh",
        "outputId": "f9be2057-57f2-4ef6-8dad-e6c74881ff5b"
      },
      "execution_count": 6,
      "outputs": [
        {
          "output_type": "stream",
          "name": "stdout",
          "text": [
            "0\n",
            "-2\n",
            "-4\n",
            "-6\n",
            "-8\n",
            "-10\n",
            "-12\n",
            "-14\n",
            "-16\n",
            "-18\n"
          ]
        }
      ]
    },
    {
      "cell_type": "code",
      "source": [
        "#Usando o tamanho de uma lista na função range()\n",
        "lista = ['Abacaxi', 'Banana', 'Morango', 'Uva']\n",
        "lista_tamanho = len(lista)#É uma função utilizada para obter o número de itens em um determinado objeto, string, array, listas, entre outros\n",
        "for i in range(0, lista_tamanho):\n",
        "  print(lista[i])"
      ],
      "metadata": {
        "colab": {
          "base_uri": "https://localhost:8080/"
        },
        "id": "zEd2mr24Qe19",
        "outputId": "b24296e8-8a1a-48ee-ce2b-93fd870b9bee"
      },
      "execution_count": 7,
      "outputs": [
        {
          "output_type": "stream",
          "name": "stdout",
          "text": [
            "Abacaxi\n",
            "Banana\n",
            "Morango\n",
            "Uva\n"
          ]
        }
      ]
    },
    {
      "cell_type": "markdown",
      "source": [
        "Quando colocamos\n",
        "\n",
        "\n",
        "\n",
        "```\n",
        "# for i in range()\n",
        "\n",
        "\n",
        "#Ele tem tradução: Para variável em range(Que é uma sequencia de números inteiros)`\n",
        "\n",
        "```\n",
        "E importante saber ler o código, você vai aprendendo um pouco de inglês também junto com ele\n",
        "\n",
        "\n",
        "\n",
        "\n"
      ],
      "metadata": {
        "id": "WwpmunEaR-vJ"
      }
    },
    {
      "cell_type": "markdown",
      "source": [
        "# <font color = black> **Métodos**</font>\n",
        "\n",
        "*Tudo em Python é objeto. E cada objeto tem médotos e atributos.*\n",
        "\n",
        "\n",
        "*   Atributos são propriedades, características do objeto\n",
        "*   Métodos são funções que podem ser executados nos objetos\n",
        "\n"
      ],
      "metadata": {
        "id": "Xq-gqIIQUwAl"
      }
    },
    {
      "cell_type": "code",
      "source": [
        "help(lista.count)"
      ],
      "metadata": {
        "colab": {
          "base_uri": "https://localhost:8080/"
        },
        "id": "JgR_de5qVqey",
        "outputId": "d5050c86-4ce1-463f-a3f0-ebc170e96e7f"
      },
      "execution_count": 8,
      "outputs": [
        {
          "output_type": "stream",
          "name": "stdout",
          "text": [
            "Help on built-in function count:\n",
            "\n",
            "count(value, /) method of builtins.list instance\n",
            "    Return number of occurrences of value.\n",
            "\n"
          ]
        }
      ]
    },
    {
      "cell_type": "markdown",
      "source": [
        "Count(value, /) método da instância builtins.list\n",
        "    Devolve o número de ocorrências do valor."
      ],
      "metadata": {
        "id": "eaW8zilnXdnR"
      }
    },
    {
      "cell_type": "code",
      "source": [
        "help(dir)"
      ],
      "metadata": {
        "colab": {
          "base_uri": "https://localhost:8080/"
        },
        "id": "e2YFrmCbXtPH",
        "outputId": "773d5d73-06e0-4833-c50b-50e178de7f44"
      },
      "execution_count": 9,
      "outputs": [
        {
          "output_type": "stream",
          "name": "stdout",
          "text": [
            "Help on built-in function dir in module builtins:\n",
            "\n",
            "dir(...)\n",
            "    dir([object]) -> list of strings\n",
            "    \n",
            "    If called without an argument, return the names in the current scope.\n",
            "    Else, return an alphabetized list of names comprising (some of) the attributes\n",
            "    of the given object, and of attributes reachable from it.\n",
            "    If the object supplies a method named __dir__, it will be used; otherwise\n",
            "    the default dir() logic is used and returns:\n",
            "      for a module object: the module's attributes.\n",
            "      for a class object:  its attributes, and recursively the attributes\n",
            "        of its bases.\n",
            "      for any other object: its attributes, its class's attributes, and\n",
            "        recursively the attributes of its class's base classes.\n",
            "\n"
          ]
        }
      ]
    },
    {
      "cell_type": "markdown",
      "source": [
        "\n",
        "```\n",
        "# dir(...)\n",
        "  dir([object]) - list of string\n",
        "```\n",
        "Se for chamada sem um argumento, devolve os nomes no âmbito atual.\n",
        "\n",
        "```\n",
        " Caso contrário, retorna uma lista em ordem alfabética de nomes que compreendem (alguns dos) atributos\n",
        "    do objeto dado, e de atributos alcançáveis a partir dele.\n",
        "    Se o objeto fornecer um método chamado __dir__, ele será usado; caso contrário\n",
        "    a lógica dir() predefinida é utilizada e é devolvida:\n",
        "```\n",
        "para um objeto módulo: os atributos do módulo.\n",
        "      para um objeto classe: os seus atributos, e recursivamente os atributos\n",
        "        das suas bases.\n",
        "      para qualquer outro objeto: os seus atributos, os atributos da sua classe, e\n",
        "        recursivamente os atributos das classes base da sua classe.\n",
        "\n",
        "<font color = green> **Dir é uma função embutida poderosa no Python3, que retorna uma lista dos atributos e métodos de qualquer objeto (digamos funções, módulos, strings, listas, dicionários etc.)**</font>\n"
      ],
      "metadata": {
        "id": "0AaX5R6UYBeR"
      }
    },
    {
      "cell_type": "code",
      "source": [
        "dir(lista)"
      ],
      "metadata": {
        "colab": {
          "base_uri": "https://localhost:8080/"
        },
        "id": "AxBS2EISZeRJ",
        "outputId": "6ad84d6e-0e44-42a1-a05c-170e5e75825c"
      },
      "execution_count": 10,
      "outputs": [
        {
          "output_type": "execute_result",
          "data": {
            "text/plain": [
              "['__add__',\n",
              " '__class__',\n",
              " '__class_getitem__',\n",
              " '__contains__',\n",
              " '__delattr__',\n",
              " '__delitem__',\n",
              " '__dir__',\n",
              " '__doc__',\n",
              " '__eq__',\n",
              " '__format__',\n",
              " '__ge__',\n",
              " '__getattribute__',\n",
              " '__getitem__',\n",
              " '__gt__',\n",
              " '__hash__',\n",
              " '__iadd__',\n",
              " '__imul__',\n",
              " '__init__',\n",
              " '__init_subclass__',\n",
              " '__iter__',\n",
              " '__le__',\n",
              " '__len__',\n",
              " '__lt__',\n",
              " '__mul__',\n",
              " '__ne__',\n",
              " '__new__',\n",
              " '__reduce__',\n",
              " '__reduce_ex__',\n",
              " '__repr__',\n",
              " '__reversed__',\n",
              " '__rmul__',\n",
              " '__setattr__',\n",
              " '__setitem__',\n",
              " '__sizeof__',\n",
              " '__str__',\n",
              " '__subclasshook__',\n",
              " 'append',\n",
              " 'clear',\n",
              " 'copy',\n",
              " 'count',\n",
              " 'extend',\n",
              " 'index',\n",
              " 'insert',\n",
              " 'pop',\n",
              " 'remove',\n",
              " 'reverse',\n",
              " 'sort']"
            ]
          },
          "metadata": {},
          "execution_count": 10
        }
      ]
    },
    {
      "cell_type": "code",
      "source": [
        "frase = 'funk é cultura'"
      ],
      "metadata": {
        "id": "b8gvNm0gaASy"
      },
      "execution_count": 11,
      "outputs": []
    },
    {
      "cell_type": "code",
      "source": [
        "type(frase)"
      ],
      "metadata": {
        "colab": {
          "base_uri": "https://localhost:8080/"
        },
        "id": "3aG4AhDFaKFe",
        "outputId": "150665f4-2c42-4327-c69e-2a71f5b3f6e8"
      },
      "execution_count": 12,
      "outputs": [
        {
          "output_type": "execute_result",
          "data": {
            "text/plain": [
              "str"
            ]
          },
          "metadata": {},
          "execution_count": 12
        }
      ]
    },
    {
      "cell_type": "code",
      "source": [
        "print(frase.split())#Split é dividir/separar"
      ],
      "metadata": {
        "colab": {
          "base_uri": "https://localhost:8080/"
        },
        "id": "Du6M9eJXaNsK",
        "outputId": "2c34002c-8f3d-4576-9be3-14e0718968d9"
      },
      "execution_count": 13,
      "outputs": [
        {
          "output_type": "stream",
          "name": "stdout",
          "text": [
            "['funk', 'é', 'cultura']\n"
          ]
        }
      ]
    },
    {
      "cell_type": "markdown",
      "source": [
        "# <font color = black>**Função**</font>\n",
        "\n",
        "É um bloco de código que você pode executar várias vezes fazendo aquela chamada daquela função"
      ],
      "metadata": {
        "id": "xR4e940qcyZC"
      }
    },
    {
      "cell_type": "code",
      "source": [
        "def primeiraFunc():\n",
        "  print('Hello World')"
      ],
      "metadata": {
        "id": "mGKve-L6dBjC"
      },
      "execution_count": 14,
      "outputs": []
    },
    {
      "cell_type": "code",
      "source": [
        "primeiraFunc()"
      ],
      "metadata": {
        "colab": {
          "base_uri": "https://localhost:8080/"
        },
        "id": "kw-CsRB8dODb",
        "outputId": "709085bf-ba30-4c07-fe3c-9521e4ae612f"
      },
      "execution_count": 15,
      "outputs": [
        {
          "output_type": "stream",
          "name": "stdout",
          "text": [
            "Hello World\n"
          ]
        }
      ]
    },
    {
      "cell_type": "code",
      "source": [
        "def primeiraFunc():\n",
        "  name = 'Nicole'\n",
        "  print('Hello', name )"
      ],
      "metadata": {
        "id": "GKhv7XmhecCW"
      },
      "execution_count": 31,
      "outputs": []
    },
    {
      "cell_type": "code",
      "source": [
        "primeiraFunc()"
      ],
      "metadata": {
        "colab": {
          "base_uri": "https://localhost:8080/"
        },
        "id": "9reSETaWeqCe",
        "outputId": "d965ae10-85da-4b12-982e-81a1f0891b48"
      },
      "execution_count": 32,
      "outputs": [
        {
          "output_type": "stream",
          "name": "stdout",
          "text": [
            "Hello Nicole\n"
          ]
        }
      ]
    },
    {
      "cell_type": "code",
      "source": [
        "var_global = 10 #Esta é uma variável global\n",
        "\n",
        "def multiplica_numeros(num1, num2):\n",
        "  var_global = num1 * num2 #Esta é uma variável local\n",
        "  print(var_global)"
      ],
      "metadata": {
        "id": "9xBiDtadh2Ac"
      },
      "execution_count": 33,
      "outputs": []
    },
    {
      "cell_type": "code",
      "source": [
        "multiplica_numeros(15,5) #Aqui você está fazendo chamada variável local na parte de baixo que é dentro do def"
      ],
      "metadata": {
        "colab": {
          "base_uri": "https://localhost:8080/"
        },
        "id": "ybtQB171iOBo",
        "outputId": "6decc2e7-b29c-48e9-acb0-1f5ad7c478de"
      },
      "execution_count": 34,
      "outputs": [
        {
          "output_type": "stream",
          "name": "stdout",
          "text": [
            "75\n"
          ]
        }
      ]
    },
    {
      "cell_type": "code",
      "source": [
        "print(var_global) #Aqui você está fazendo chamada variável global na parte de cima"
      ],
      "metadata": {
        "colab": {
          "base_uri": "https://localhost:8080/"
        },
        "id": "GnUxWlFqiV4Z",
        "outputId": "c4a11736-ae41-4a36-da7f-6d27cb3cd905"
      },
      "execution_count": 35,
      "outputs": [
        {
          "output_type": "stream",
          "name": "stdout",
          "text": [
            "10\n"
          ]
        }
      ]
    },
    {
      "cell_type": "markdown",
      "source": [
        "Essa parte de experimento de variável é para se atentar em sempre simplificar e ter código limpo, mesmo a linguagem permitindo colocar mesmo nome de variável não é bom fazer, isso pode gerar muitos bugs. Crie nomes diferentes."
      ],
      "metadata": {
        "id": "fDFVs7pVjX5v"
      }
    },
    {
      "cell_type": "markdown",
      "source": [
        "# **<font color = black>Função Built-in</font>**"
      ],
      "metadata": {
        "id": "DWEd6fo5krr3"
      }
    },
    {
      "cell_type": "code",
      "source": [
        " abs(-56)#abs é para extrair um valor absoluto de um número"
      ],
      "metadata": {
        "colab": {
          "base_uri": "https://localhost:8080/"
        },
        "id": "B2tH7bi_kWV5",
        "outputId": "029bc69e-d62d-4c10-fd1e-6c89c505fc8f"
      },
      "execution_count": 36,
      "outputs": [
        {
          "output_type": "execute_result",
          "data": {
            "text/plain": [
              "56"
            ]
          },
          "metadata": {},
          "execution_count": 36
        }
      ]
    },
    {
      "cell_type": "code",
      "source": [
        "bool(0)#especifica os valores booleanos falso (False) e verdadeiro (True)"
      ],
      "metadata": {
        "colab": {
          "base_uri": "https://localhost:8080/"
        },
        "id": "GqDVeIaomJp_",
        "outputId": "0c0057ef-36f7-4319-b3d0-2d9395cc99e0"
      },
      "execution_count": 37,
      "outputs": [
        {
          "output_type": "execute_result",
          "data": {
            "text/plain": [
              "False"
            ]
          },
          "metadata": {},
          "execution_count": 37
        }
      ]
    },
    {
      "cell_type": "code",
      "source": [
        "int(1.5)#traz um valor inteiro"
      ],
      "metadata": {
        "colab": {
          "base_uri": "https://localhost:8080/"
        },
        "id": "u61XQaIEmWcx",
        "outputId": "5ce66e54-59e0-4f45-a6d9-534903177d7b"
      },
      "execution_count": 38,
      "outputs": [
        {
          "output_type": "execute_result",
          "data": {
            "text/plain": [
              "1"
            ]
          },
          "metadata": {},
          "execution_count": 38
        }
      ]
    },
    {
      "cell_type": "code",
      "source": [
        "str(13)#traz uma informação em texto"
      ],
      "metadata": {
        "colab": {
          "base_uri": "https://localhost:8080/",
          "height": 35
        },
        "id": "WyKxc2Djmdh6",
        "outputId": "87ab3c2b-ffd9-4890-f9dc-44d1b02a06db"
      },
      "execution_count": 39,
      "outputs": [
        {
          "output_type": "execute_result",
          "data": {
            "text/plain": [
              "'13'"
            ],
            "application/vnd.google.colaboratory.intrinsic+json": {
              "type": "string"
            }
          },
          "metadata": {},
          "execution_count": 39
        }
      ]
    },
    {
      "cell_type": "code",
      "source": [
        "float(33)#transforma números em decimal"
      ],
      "metadata": {
        "colab": {
          "base_uri": "https://localhost:8080/"
        },
        "id": "1KbQ9yMHmueq",
        "outputId": "6e3218f1-aa98-4b95-b55f-20832d6b5f7c"
      },
      "execution_count": 40,
      "outputs": [
        {
          "output_type": "execute_result",
          "data": {
            "text/plain": [
              "33.0"
            ]
          },
          "metadata": {},
          "execution_count": 40
        }
      ]
    },
    {
      "cell_type": "code",
      "source": [
        "len([20,93,84,75,46])#contador de lista"
      ],
      "metadata": {
        "colab": {
          "base_uri": "https://localhost:8080/"
        },
        "id": "GLZ1TABUogOj",
        "outputId": "dc93f260-46a2-4dc0-dab3-4bc59c7d7540"
      },
      "execution_count": 41,
      "outputs": [
        {
          "output_type": "execute_result",
          "data": {
            "text/plain": [
              "5"
            ]
          },
          "metadata": {},
          "execution_count": 41
        }
      ]
    },
    {
      "cell_type": "code",
      "source": [
        "array = [0,1,2,3,4]"
      ],
      "metadata": {
        "id": "GTihvGjoo8AQ"
      },
      "execution_count": 42,
      "outputs": []
    },
    {
      "cell_type": "code",
      "source": [
        "max(array)"
      ],
      "metadata": {
        "colab": {
          "base_uri": "https://localhost:8080/"
        },
        "id": "-lBBqIkspCgm",
        "outputId": "683f06ac-c7a3-4e84-8b03-1470bf1e9f17"
      },
      "execution_count": 43,
      "outputs": [
        {
          "output_type": "execute_result",
          "data": {
            "text/plain": [
              "4"
            ]
          },
          "metadata": {},
          "execution_count": 43
        }
      ]
    },
    {
      "cell_type": "code",
      "source": [
        "min(array)"
      ],
      "metadata": {
        "colab": {
          "base_uri": "https://localhost:8080/"
        },
        "id": "dMrIR4JypGpO",
        "outputId": "150722a3-cf3d-42d0-af0b-1ca1579375b8"
      },
      "execution_count": 44,
      "outputs": [
        {
          "output_type": "execute_result",
          "data": {
            "text/plain": [
              "0"
            ]
          },
          "metadata": {},
          "execution_count": 44
        }
      ]
    },
    {
      "cell_type": "code",
      "source": [
        "calculo_list = [39,56,74]\n",
        "sum(calculo_list)"
      ],
      "metadata": {
        "colab": {
          "base_uri": "https://localhost:8080/"
        },
        "id": "3r22zQkupJG2",
        "outputId": "c1bf652f-7461-40e7-a303-7832a1c923e4"
      },
      "execution_count": 45,
      "outputs": [
        {
          "output_type": "execute_result",
          "data": {
            "text/plain": [
              "169"
            ]
          },
          "metadata": {},
          "execution_count": 45
        }
      ]
    },
    {
      "cell_type": "code",
      "source": [
        "#Fazendo split dos dados\n",
        "def split_string_palavras(text):\n",
        "  return text.split(\" \")"
      ],
      "metadata": {
        "id": "gu5zFzJRrush"
      },
      "execution_count": 47,
      "outputs": []
    },
    {
      "cell_type": "code",
      "source": [
        "texto = \"Essa função será bastante útil para separar grandes volumes de dados\""
      ],
      "metadata": {
        "id": "5_wPYn-8r7De"
      },
      "execution_count": 48,
      "outputs": []
    },
    {
      "cell_type": "code",
      "source": [
        "#Isso divide a string em uma lista de palavras\n",
        "print(split_string_palavras (texto))"
      ],
      "metadata": {
        "colab": {
          "base_uri": "https://localhost:8080/"
        },
        "id": "afgxID4MsF2i",
        "outputId": "b9a325ed-5cf2-4bf1-d069-b03f7104265c"
      },
      "execution_count": 51,
      "outputs": [
        {
          "output_type": "stream",
          "name": "stdout",
          "text": [
            "['Essa', 'função', 'será', 'bastante', 'útil', 'para', 'separar', 'grandes', 'volumes', 'de', 'dados']\n"
          ]
        }
      ]
    },
    {
      "cell_type": "markdown",
      "source": [
        "# **Lambda**"
      ],
      "metadata": {
        "id": "VzWzIYIXvXFI"
      }
    },
    {
      "cell_type": "code",
      "source": [
        "potencia = lambda num: num ** 2"
      ],
      "metadata": {
        "id": "Ks_tYL-BsLQ2"
      },
      "execution_count": 52,
      "outputs": []
    },
    {
      "cell_type": "code",
      "source": [
        "potencia(5)"
      ],
      "metadata": {
        "colab": {
          "base_uri": "https://localhost:8080/"
        },
        "id": "nleVuqf-vtTo",
        "outputId": "baf6a69a-5a45-423b-d89b-701702e17dbe"
      },
      "execution_count": 53,
      "outputs": [
        {
          "output_type": "execute_result",
          "data": {
            "text/plain": [
              "25"
            ]
          },
          "metadata": {},
          "execution_count": 53
        }
      ]
    },
    {
      "cell_type": "markdown",
      "source": [
        "List Comprehension\n",
        "\n",
        "Expressão for item in iterable if condição == True"
      ],
      "metadata": {
        "id": "2UWH6MvjxeBl"
      }
    },
    {
      "cell_type": "code",
      "source": [
        "#List comprehension que imprime os números até 10\n",
        "[i for i in range(10)]"
      ],
      "metadata": {
        "colab": {
          "base_uri": "https://localhost:8080/"
        },
        "id": "1XTZsQgLxFJW",
        "outputId": "78f5729a-9e48-4a66-b22b-99ad82e7fe1e"
      },
      "execution_count": 56,
      "outputs": [
        {
          "output_type": "execute_result",
          "data": {
            "text/plain": [
              "[0, 1, 2, 3, 4, 5, 6, 7, 8, 9]"
            ]
          },
          "metadata": {},
          "execution_count": 56
        }
      ]
    },
    {
      "cell_type": "code",
      "source": [
        "#list comprehension que imprime os números até 10 e grava em uma lista python\n",
        "lista_numeros = [x for x in range(10)]"
      ],
      "metadata": {
        "id": "QST2ngJbJdMy"
      },
      "execution_count": 3,
      "outputs": []
    },
    {
      "cell_type": "code",
      "source": [
        "print(lista_numeros)"
      ],
      "metadata": {
        "colab": {
          "base_uri": "https://localhost:8080/"
        },
        "id": "Z9NEigmzJuSv",
        "outputId": "7d7328d8-f08e-4d17-fba9-3217b811f09a"
      },
      "execution_count": 4,
      "outputs": [
        {
          "output_type": "stream",
          "name": "stdout",
          "text": [
            "[0, 1, 2, 3, 4, 5, 6, 7, 8, 9]\n"
          ]
        }
      ]
    },
    {
      "cell_type": "code",
      "source": [
        "#list comprehension que imprime os números menores que 5 em um intervalo de 1 a 10\n",
        "lista_numeros = [x for x in range(10) if x < 5]\n",
        "print(lista_numeros)"
      ],
      "metadata": {
        "colab": {
          "base_uri": "https://localhost:8080/"
        },
        "id": "qJmGB8TtJw1t",
        "outputId": "cff818fd-6b65-4d5b-90d9-6bc7b50a65a4"
      },
      "execution_count": 5,
      "outputs": [
        {
          "output_type": "stream",
          "name": "stdout",
          "text": [
            "[0, 1, 2, 3, 4]\n"
          ]
        }
      ]
    },
    {
      "cell_type": "code",
      "source": [
        "#lista de frutas\n",
        "lista_frutas = [\"banana\",\"abacate\",\"melancia\",\"cereja\",\"manga\"]\n",
        "\n",
        "#nova lista\n",
        "nova_lista = []"
      ],
      "metadata": {
        "id": "iZ1D2nAVKIti"
      },
      "execution_count": 8,
      "outputs": []
    },
    {
      "cell_type": "code",
      "source": [
        "#loop tradicional para buscar as palavras com letra \"m\"\n",
        "for x in lista_frutas:\n",
        "  if \"m\" in x:\n",
        "    nova_lista.append(x)\n",
        "print(nova_lista)"
      ],
      "metadata": {
        "colab": {
          "base_uri": "https://localhost:8080/"
        },
        "id": "5nlcYlP6LHuh",
        "outputId": "cfa2ad41-1fbd-45f0-cc9d-8845f3befd0d"
      },
      "execution_count": 9,
      "outputs": [
        {
          "output_type": "stream",
          "name": "stdout",
          "text": [
            "['melancia', 'manga']\n"
          ]
        }
      ]
    },
    {
      "cell_type": "code",
      "source": [
        "#mesmo resultado anterior mas com list comprehension\n",
        "nova_lista = [x for x in lista_frutas if \"m\" in x]\n",
        "print(nova_lista)"
      ],
      "metadata": {
        "colab": {
          "base_uri": "https://localhost:8080/"
        },
        "id": "nR9nfiwDL9L3",
        "outputId": "996e9107-c524-405d-be29-df0eace5a35a"
      },
      "execution_count": 10,
      "outputs": [
        {
          "output_type": "stream",
          "name": "stdout",
          "text": [
            "['melancia', 'manga']\n"
          ]
        }
      ]
    },
    {
      "cell_type": "code",
      "source": [
        "#dict comprehension\n",
        "\n",
        "#dicionário de alunos e notas\n",
        "dict_alunos = {'Bob': 68,'Michel': 84,'Zico': 57,'Ana': 93}\n",
        "\n",
        "#criamos um novo dicionário imprimindo os pares de chave:valor\n",
        "dict_alunos_status = {k:v for (k,v) in dict_alunos.items()}\n",
        "print(dict_alunos_status)"
      ],
      "metadata": {
        "colab": {
          "base_uri": "https://localhost:8080/"
        },
        "id": "-rSM3jL6MP4h",
        "outputId": "a70cdeb5-46f0-4f6f-8be8-39ffb27ecc28"
      },
      "execution_count": 11,
      "outputs": [
        {
          "output_type": "stream",
          "name": "stdout",
          "text": [
            "{'Bob': 68, 'Michel': 84, 'Zico': 57, 'Ana': 93}\n"
          ]
        }
      ]
    },
    {
      "cell_type": "code",
      "source": [
        "#dicionário de alunos e notas\n",
        "dict_alunos = {'Bob': 68,'Michel': 84,'Zico': 57,'Ana': 93}\n",
        "\n",
        "#criamos um novo dicionário com o status: nota maior que 70, aprovado, senão, reprovado\n",
        "dict_alunos_status = {k: ('aprovado' if v > 70 else 'repovado') for (k,v) in dict_alunos.items()}\n",
        "print(dict_alunos_status)"
      ],
      "metadata": {
        "colab": {
          "base_uri": "https://localhost:8080/"
        },
        "id": "N_Zfoq0vPQZS",
        "outputId": "9067799b-bda5-498f-d9ef-0d6b518b4b7e"
      },
      "execution_count": 12,
      "outputs": [
        {
          "output_type": "stream",
          "name": "stdout",
          "text": [
            "{'Bob': 'repovado', 'Michel': 'aprovado', 'Zico': 'repovado', 'Ana': 'aprovado'}\n"
          ]
        }
      ]
    }
  ],
  "metadata": {
    "kernelspec": {
      "display_name": "Python 3 (ipykernel)",
      "language": "python",
      "name": "python3"
    },
    "language_info": {
      "codemirror_mode": {
        "name": "ipython",
        "version": 3
      },
      "file_extension": ".py",
      "mimetype": "text/x-python",
      "name": "python",
      "nbconvert_exporter": "python",
      "pygments_lexer": "ipython3",
      "version": "3.9.13"
    },
    "colab": {
      "provenance": [],
      "include_colab_link": true
    }
  },
  "nbformat": 4,
  "nbformat_minor": 0
}