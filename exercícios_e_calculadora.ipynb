{
  "nbformat": 4,
  "nbformat_minor": 0,
  "metadata": {
    "colab": {
      "provenance": [],
      "include_colab_link": true
    },
    "kernelspec": {
      "name": "python3",
      "display_name": "Python 3"
    },
    "language_info": {
      "name": "python"
    }
  },
  "cells": [
    {
      "cell_type": "markdown",
      "metadata": {
        "id": "view-in-github",
        "colab_type": "text"
      },
      "source": [
        "<a href=\"https://colab.research.google.com/github/NicolePessoa/Aprendizado_Python/blob/master/exerc%C3%ADcios_e_calculadora.ipynb\" target=\"_parent\"><img src=\"https://colab.research.google.com/assets/colab-badge.svg\" alt=\"Open In Colab\"/></a>"
      ]
    },
    {
      "cell_type": "code",
      "source": [
        "from platform import python_version\n",
        "print('Versão da Linguagem Python Usada Neste Jupyter Notebook:', python_version())"
      ],
      "metadata": {
        "colab": {
          "base_uri": "https://localhost:8080/"
        },
        "id": "-gwSUaW4pEo3",
        "outputId": "909eb30e-1344-4385-c5b9-ffc1bd8d1f6a"
      },
      "execution_count": 1,
      "outputs": [
        {
          "output_type": "stream",
          "name": "stdout",
          "text": [
            "Versão da Linguagem Python Usada Neste Jupyter Notebook: 3.10.12\n"
          ]
        }
      ]
    },
    {
      "cell_type": "code",
      "execution_count": null,
      "metadata": {
        "colab": {
          "base_uri": "https://localhost:8080/"
        },
        "id": "FL0299HjVWFU",
        "outputId": "4fbbcd7d-c137-4a10-ac8c-6bb50325629a"
      },
      "outputs": [
        {
          "output_type": "stream",
          "name": "stdout",
          "text": [
            "1\n",
            "3\n",
            "5\n",
            "7\n",
            "9\n",
            "11\n",
            "13\n",
            "15\n",
            "17\n",
            "19\n"
          ]
        }
      ],
      "source": [
        "#Criar função que imprima a sequência de números pares entre 1 e 20\n",
        "for i in range(1, 21 ,2):\n",
        "  print(i)"
      ]
    },
    {
      "cell_type": "code",
      "source": [
        "#Crie uam função que receba uma string como argumento e retorne a mesma string em letras maiúsculas\n",
        "def letra_maiuscula(texto):\n",
        "  return texto.upper()\n",
        "\n",
        "string = \"Inhai, bebeu água?\"\n",
        "maiscula = letra_maiuscula(string)\n",
        "print(maiscula)"
      ],
      "metadata": {
        "colab": {
          "base_uri": "https://localhost:8080/"
        },
        "id": "HI7Qlr31YrrT",
        "outputId": "4a55eedc-c774-4fca-d7cb-09bdfd7ff738"
      },
      "execution_count": null,
      "outputs": [
        {
          "output_type": "stream",
          "name": "stdout",
          "text": [
            "INHAI, BEBEU ÁGUA?\n"
          ]
        }
      ]
    },
    {
      "cell_type": "code",
      "source": [
        "#Crie uma função que receba como parâmetro uma lista de 4 elementos, adicione 2 elementos a lista e\n",
        "# imprima a lista\n",
        "#def adicionar_elementos(lista):\n",
        "    #lista.extend([5, 6])  # Adiciona os elementos 5 e 6 à lista\n",
        "    #print(lista)  # Imprime a lista atualizada\n",
        "\n",
        "# Exemplo de uso da função\n",
        "#minha_lista = [1, 2, 3, 4]\n",
        "#adicionar_elementos(minha_lista)\n",
        "\n",
        "#O método .extend() adiciona todos os elementos de um iterável (lista, tupla, cadeia de caracteres, etc.) ao fim da lista."
      ],
      "metadata": {
        "colab": {
          "base_uri": "https://localhost:8080/"
        },
        "id": "9xgtNVsJa9oG",
        "outputId": "a0b2654d-0813-4ff3-b42f-5524ec66f6a4"
      },
      "execution_count": null,
      "outputs": [
        {
          "output_type": "stream",
          "name": "stdout",
          "text": [
            "[1, 2, 3, 4, 5, 6]\n"
          ]
        }
      ]
    },
    {
      "cell_type": "code",
      "source": [
        "#Crie uma função anônima e atribua seu retorno a uma variável chamada soma. A expressão vai receber 2 números como parâmetro e retornar a soma deles\n",
        "soma = lambda x,y: x / y\n",
        "soma(10,5)"
      ],
      "metadata": {
        "colab": {
          "base_uri": "https://localhost:8080/"
        },
        "id": "vPFi9HMBb9xy",
        "outputId": "54ce9398-a944-40fb-dbcf-89d729e57f9f"
      },
      "execution_count": null,
      "outputs": [
        {
          "output_type": "execute_result",
          "data": {
            "text/plain": [
              "2.0"
            ]
          },
          "metadata": {},
          "execution_count": 35
        }
      ]
    },
    {
      "cell_type": "code",
      "source": [
        "# Crie uma função anônima que converta cada temperatura para Fahrenheit\n",
        "celsius_tempetures = [39.2, 36.5, 37.3, 37.8]\n",
        "fahrenheit_temperatures = list(map(lambda temperatura:\n",
        " (temperatura * 9/5) + 32, celsius_tempetures))\n",
        "\n",
        "print(fahrenheit_temperatures)"
      ],
      "metadata": {
        "colab": {
          "base_uri": "https://localhost:8080/"
        },
        "id": "q_iYmv_PiH9B",
        "outputId": "db4ff469-38ef-4b77-f6f8-80d54fbc187c"
      },
      "execution_count": 2,
      "outputs": [
        {
          "output_type": "stream",
          "name": "stdout",
          "text": [
            "[102.56, 97.7, 99.14, 100.03999999999999]\n"
          ]
        }
      ]
    },
    {
      "cell_type": "code",
      "source": [
        "def calculadora():\n",
        "    print(\"\\nBem-vindo à calculadora!\")\n",
        "\n",
        "    while True:\n",
        "        print(\"\\nEscolha a operação:\")\n",
        "        print(1,\"- Adição\")\n",
        "        print(2,\"- Subtração\")\n",
        "        print(3,\"- Multiplicação\")\n",
        "        print(4,\"- Divisão\")\n",
        "        print(5,\"- Sair\")\n",
        "\n",
        "        escolha = int(input(\"Digite o número da operação desejada: \"))\n",
        "        if escolha >= 6 or escolha == 0:\n",
        "          print(\"Opção inválida! Por favor, escolha uma opção de 1 á 5.\")\n",
        "          continue\n",
        "\n",
        "        if escolha == 5:\n",
        "            print(\"Obrigado por usar a calculadora. Até mais!\")\n",
        "            break\n",
        "\n",
        "        num1 = int(input(\"Digite o primeiro número: \"))\n",
        "        num2 = int(input(\"Digite o segundo número: \"))\n",
        "\n",
        "        if escolha == 1:\n",
        "            resultado = num1 + num2\n",
        "            print(f\"\\nResultado: {num1} + {num2} = {resultado}\")\n",
        "        elif escolha == 2:\n",
        "            resultado = num1 - num2\n",
        "            print(f\"\\nResultado: {num1} - {num2} = {resultado}\")\n",
        "        elif escolha == 3:\n",
        "            resultado = num1 * num2\n",
        "            print(f\"\\nResultado: {num1} * {num2} = {resultado}\")\n",
        "        elif escolha == 4:\n",
        "                resultado = num1 / num2\n",
        "                print(f\"\\nResultado: {num1} / {num2} = {resultado}\")\n",
        "\n",
        "\n",
        "\n",
        "calculadora()\n"
      ],
      "metadata": {
        "colab": {
          "base_uri": "https://localhost:8080/"
        },
        "id": "sxO0FHqHkBfN",
        "outputId": "6cf3560b-d12d-47f4-8778-919a450ebd74"
      },
      "execution_count": null,
      "outputs": [
        {
          "output_type": "stream",
          "name": "stdout",
          "text": [
            "\n",
            "Bem-vindo à calculadora!\n",
            "\n",
            "Escolha a operação:\n",
            "1 - Adição\n",
            "2 - Subtração\n",
            "3 - Multiplicação\n",
            "4 - Divisão\n",
            "5 - Sair\n",
            "Digite o número da operação desejada: 3\n",
            "Digite o primeiro número: 22\n",
            "Digite o segundo número: 1\n",
            "\n",
            "Resultado: 22 * 1 = 22\n",
            "\n",
            "Escolha a operação:\n",
            "1 - Adição\n",
            "2 - Subtração\n",
            "3 - Multiplicação\n",
            "4 - Divisão\n",
            "5 - Sair\n",
            "Digite o número da operação desejada: 5\n",
            "Obrigado por usar a calculadora. Até mais!\n"
          ]
        }
      ]
    },
    {
      "cell_type": "markdown",
      "source": [
        "Formatação de Strings em Python\n",
        "\n",
        "Em Python nós não temos muitas formas de formatar strings, graças a um dos Zen’s do Python (não sabe qual? Então já clica aqui pra saber mais).\n",
        "\n",
        "Antes do Python 3.6, nós tínhamos basicamente duas formas de formatar strings:\n",
        "\n",
        "    Utilizando % ou\n",
        "    Utilizando str.format(), a partir do Python 3.0.\n",
        "\n",
        "A partir da versão 3.6 do Python, foi introduzido o conceito de f-strings, que veremos AGORA!\n",
        "Formatação com f-strings\n",
        "\n",
        "F-strings foram criados para facilitar nossa vida e vieram para ficar!\n",
        "\n",
        "Também chamadas de “strings literais formatadas” (formatted string literals), f-strings são strings com a letra f no início e chaves {} para realizar a interpolação de expressões.\n",
        "\n",
        "As expressões são processadas em tempo de execução e formatadas utilizadas o protocolo __format__."
      ],
      "metadata": {
        "id": "mOYt1gQL-LW0"
      }
    },
    {
      "cell_type": "markdown",
      "source": [
        "\\n - comando que quebra a linha\n",
        "\n",
        "No Python, todas as sequências escapadas serão interpretadas quando presentes dentro de um texto (string). Isto é, se você pedir para o Python exibir a mensagem:\n",
        "\n",
        "`print(\"Ola\\nMundo\")`\n",
        "\n",
        "A sequência escapada estará em uma string e, portanto, será analisada, gerando a saída:\n",
        "\n",
        "\n",
        "```\n",
        "# Ola\n",
        "Mundo\n",
        "```\n",
        "\n",
        "\n"
      ],
      "metadata": {
        "id": "s49xf0sRB2cU"
      }
    }
  ]
}